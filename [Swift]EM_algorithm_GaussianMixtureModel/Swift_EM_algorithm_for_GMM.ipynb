{
  "nbformat": 4,
  "nbformat_minor": 0,
  "metadata": {
    "colab": {
      "name": "Swift - EM algorithm for GMM - Clean",
      "provenance": [],
      "collapsed_sections": [],
      "authorship_tag": "ABX9TyPjFFZEAbuIVA3nu08hReQm",
      "include_colab_link": true
    },
    "kernelspec": {
      "name": "swift",
      "display_name": "Swift"
    }
  },
  "cells": [
    {
      "cell_type": "markdown",
      "metadata": {
        "id": "view-in-github",
        "colab_type": "text"
      },
      "source": [
        "<a href=\"https://colab.research.google.com/github/rbgt/Bayesian_Data_Analysis/blob/main/%5BSwift%5DEM_algorithm_GaussianMixtureModel/Swift_EM_algorithm_for_GMM.ipynb\" target=\"_parent\"><img src=\"https://colab.research.google.com/assets/colab-badge.svg\" alt=\"Open In Colab\"/></a>"
      ]
    },
    {
      "cell_type": "code",
      "metadata": {
        "id": "B3zMrJBmrypk",
        "colab": {
          "base_uri": "https://localhost:8080/"
        },
        "outputId": "46c9bf35-47b2-42bf-8ed9-1d580685c194"
      },
      "source": [
        "import Foundation\n",
        "import Darwin\n",
        "import TensorFlow\n",
        "import Python\n",
        "// This cell is here to display the plots in a Jupyter Notebook.\n",
        "// Do not copy it into another environment.\n",
        "%include \"EnableIPythonDisplay.swift\"\n",
        "IPythonDisplay.shell.enable_matplotlib(\"inline\")"
      ],
      "execution_count": null,
      "outputs": [
        {
          "output_type": "execute_result",
          "data": {
            "text/plain": [
              "('inline', 'module://ipykernel.pylab.backend_inline')\n"
            ]
          },
          "metadata": {
            "tags": []
          },
          "execution_count": 1
        }
      ]
    },
    {
      "cell_type": "code",
      "metadata": {
        "id": "KT3d-ACipj1I",
        "colab": {
          "base_uri": "https://localhost:8080/"
        },
        "outputId": "53518185-7af0-46ce-87b7-048c49cea648"
      },
      "source": [
        "let shell = Python.import(\"subprocess\").getoutput\n",
        "let plt = Python.import(\"matplotlib.pyplot\")\n",
        "shell(\"/swift/toolchain/usr/bin/swift --version\")"
      ],
      "execution_count": null,
      "outputs": [
        {
          "output_type": "execute_result",
          "data": {
            "text/plain": [
              "Swift version 5.3-dev (LLVM db8896f3f345af2, Swift 61684f62a6132c0)\n",
              "Target: x86_64-unknown-linux-gnu\n"
            ]
          },
          "metadata": {
            "tags": []
          },
          "execution_count": 2
        }
      ]
    },
    {
      "cell_type": "code",
      "metadata": {
        "id": "-ifW1bdlttFT"
      },
      "source": [
        "/**\n",
        " Common Statistical Functions\n",
        " \n",
        " This `struct` is used as a namespace to separate the stats functions in\n",
        " SwiftStats.\n",
        " \n",
        " In general, the functions here do not throw exceptions but `nil` values can be\n",
        " returned.  For example, to calculate the standard deviation of a sample\n",
        " requires at least two data points.  If the array that is passed to `sd()` does\n",
        " not have at least two values then `nil` is returned.\n",
        " \n",
        " Functions here are often generic in that they work for a range of types (for\n",
        " example, the same function is called to calculate the mean of Int8, Int32,\n",
        " Int64, or Int arrays).  Separate implementations can be found for BinaryInteger\n",
        " and BinaryFloatingPoint protocols.\n",
        " */\n",
        "public struct Common {\n",
        "    private static let pi = Double.pi\n",
        "    \n",
        "    /**\n",
        "     Calculate `n!` for values of `n` that conform to the BinaryInteger\n",
        "     protocol.  Returns `nil` if `n` is less than zero.\n",
        "     */\n",
        "    public static func factorial<T: BinaryInteger>(_ n: T) -> Int? {\n",
        "        if n < 0 {\n",
        "            return nil\n",
        "        }\n",
        "        return Int(tgamma(Double(n+1)))\n",
        "    }\n",
        "\n",
        "    /**\n",
        "     Calculate `n!` for values of `n` that conform to the BinaryFloatingPoint\n",
        "     protocol.  Uses the gamma function to \"fill in\" values of `n` that are\n",
        "     not integers.  Returns `nil` if `n` is less than zero.\n",
        "     */\n",
        "    public static func factorial<T: BinaryFloatingPoint>(_ n: T) -> Double? {\n",
        "        if n < 0 {\n",
        "            return nil\n",
        "        }\n",
        "        return Double(tgamma(Double(n+1)))\n",
        "    }\n",
        "\n",
        "    /**\n",
        "     Calculate n-choose-k for values of `n` and `k` that conform to the BinaryInteger\n",
        "     protocol.\n",
        "     */\n",
        "    public static func choose<T: BinaryInteger>(n: T, k: T) -> Int {\n",
        "        return Int(tgamma(Double(n + 1)))/Int(tgamma(Double(k + 1))*tgamma(Double(n - k + 1)))\n",
        "    }\n",
        "\n",
        "    /**\n",
        "     Calculate n-choose-k for values of `n` that conform to the BinaryFloatingPoint\n",
        "     protocol and values of `k` that conform to the BinaryInteger protocol.\n",
        "     */\n",
        "    public static func choose<N: BinaryFloatingPoint, K: BinaryInteger>(n: N, k: K) -> Double {\n",
        "        return Double(tgamma(Double(n + 1)))/Double(tgamma(Double(k + 1))*tgamma(Double(Double(n) - Double(k) + 1)))\n",
        "    }\n",
        "\n",
        "    \n",
        "    /**\n",
        "     Calculates the mean of an array of values for types that satisfy the\n",
        "     BinaryInteger protocol (e.g Int, Int32).\n",
        "     \n",
        "     - Parameters:\n",
        "        - data: Array of values\n",
        "     \n",
        "     - Returns:\n",
        "        The mean of the array of values or `nil` if the array was empty.\n",
        "     */\n",
        "    public static func mean<T: BinaryInteger>(_ data: [T]) -> Double? {\n",
        "        if data.count == 0 {\n",
        "            return nil\n",
        "        }\n",
        "        return Double(data.reduce(0, +))/Double(data.count)\n",
        "    }\n",
        "\n",
        "    /**\n",
        "     Calculates the mean of an array of values for types that satisfy the\n",
        "     BinaryFloatingPoint protocol (e.g Float, Double).\n",
        "     \n",
        "     - Parameters:\n",
        "        - data: Array of values\n",
        "     \n",
        "     - Returns:\n",
        "     The mean of the array of values or `nil` if the array was empty.\n",
        "     */\n",
        "    public static func mean<T : BinaryFloatingPoint>(_ data: [T]) -> Double? {\n",
        "        if data.count == 0 {\n",
        "            return nil\n",
        "        }\n",
        "        return Double(data.reduce(0, +))/Double(data.count)\n",
        "    }\n",
        "\n",
        "    \n",
        "    /**\n",
        "     Calculates the unbiased sample variance for an array for types that satisfy\n",
        "     the BinaryFloatingPoint protocol (e.g Float, Double).\n",
        "     \n",
        "     - Parameters:\n",
        "        - data:\n",
        "        Sample of values.  Note that this should contain at least two values.\n",
        "     \n",
        "     - Returns:\n",
        "        The unbiased sample variance or `nil` if `data` contains fewer than two\n",
        "        values.\n",
        "     */\n",
        "    public static func variance<T: BinaryFloatingPoint>(_ data: [T]) -> Double? {\n",
        "        if data.count < 2 {\n",
        "            return nil\n",
        "        }\n",
        "        \n",
        "        guard let m = mean(data) else {\n",
        "            return nil // This shouldn't ever occur\n",
        "        }\n",
        "        var total = 0.0\n",
        "        for i in 0..<data.count {\n",
        "            total += pow(Double(data[i]) - m,2)\n",
        "        }\n",
        "        return total/Double(data.count-1)\n",
        "    }\n",
        "    \n",
        "    /**\n",
        "     Calculates the unbiased sample standard deviation for an array of values\n",
        "     for types that satisfy the BinaryFloatingPoint protocol (e.g Float, Double).\n",
        "     \n",
        "     - Parameters:\n",
        "        - data:\n",
        "        Sample of values.  Note that this should contain at least two values.\n",
        "     \n",
        "     - Returns:\n",
        "        The sample unbiased standard deviation or `nil` if `data` contains fewer\n",
        "        than two values.\n",
        "     */\n",
        "    public static func sd<T: BinaryFloatingPoint>(_ data: [T]) -> Double? {\n",
        "        guard let v = variance(data) else {\n",
        "            return nil\n",
        "        }\n",
        "        return sqrt(v)\n",
        "    }\n",
        "    \n",
        "    /**\n",
        "     Calculates the unbiased sample standard deviation for an array of values\n",
        "     for types that satisfy the BinaryInteger protocol (e.g Int, Int32).\n",
        "     \n",
        "     - Parameters:\n",
        "        - data:\n",
        "        Sample of values.  Note that this should contain at least two values.\n",
        "     \n",
        "     - Returns:\n",
        "     The sample unbiased standard deviation or `nil` if `data` contains fewer\n",
        "     than two values.\n",
        "     */\n",
        "    public static func sd<T: BinaryInteger>(_ data: [T]) -> Double? {\n",
        "        guard let v = variance(data) else {\n",
        "            return nil\n",
        "        }\n",
        "        return sqrt(v)\n",
        "    }\n",
        "\n",
        "    /**\n",
        "     Calculates the population variance for an array of values for types that\n",
        "     satisfy the BinaryFloatingPoint protocol (e.g Float, Double).\n",
        "     \n",
        "     - Parameters:\n",
        "        - data:\n",
        "        Values of population.  Note that this should contain at least one value.\n",
        "     \n",
        "     - Returns:\n",
        "     The population variance or `nil` if `data` contains fewer than one value.\n",
        "     */\n",
        "    public static func pvariance<T: BinaryFloatingPoint>(_ data: [T]) -> Double? {\n",
        "        if data.count < 1 {\n",
        "            return nil\n",
        "        }\n",
        "        guard let m = mean(data) else {\n",
        "            return nil // This shouldn't ever occur\n",
        "        }\n",
        "        var total = 0.0\n",
        "        for i in 0..<data.count {\n",
        "            total += pow(Double(data[i]) - m,2)\n",
        "        }\n",
        "        return total/Double(data.count)\n",
        "    }\n",
        "\n",
        "    /**\n",
        "     Calculates the unbiased sample variance for an array of values for types\n",
        "     that satisfy the BinaryInteger protocol (e.g Int, Int32).\n",
        "     \n",
        "     - Parameters:\n",
        "        - data:\n",
        "        Sample of values.  Note that this should contain at least two values.\n",
        "     \n",
        "     - Returns:\n",
        "     The unbiased sample variance or `nil` if `data` contains fewer than two\n",
        "     values.\n",
        "     */\n",
        "    public static func variance<T: BinaryInteger>(_ data: [T]) -> Double? {\n",
        "        if data.count < 2 {\n",
        "            return nil\n",
        "        }\n",
        "        \n",
        "        guard let m = mean(data) else {\n",
        "            return nil // This shouldn't ever occur\n",
        "        }\n",
        "        var total = 0.0\n",
        "        for i in 0..<data.count {\n",
        "            total += pow(Double(data[i]) - m,2)\n",
        "        }\n",
        "        return total/Double(data.count-1)\n",
        "    }\n",
        "\n",
        "    /**\n",
        "     Calculates the population variance for an array of values for types that\n",
        "     satisfy the BinaryInteger protocol (e.g Int, Int32).\n",
        "     \n",
        "     - Parameters:\n",
        "        - data:\n",
        "        Values of population.  Note that this should contain at least one value.\n",
        "     \n",
        "     - Returns:\n",
        "     The population variance or `nil` if `data` contains fewer than one value.\n",
        "     */\n",
        "    public static func pvariance<T: BinaryInteger>(_ data: [T]) -> Double? {\n",
        "        guard let m = mean(data) else {\n",
        "            return nil\n",
        "        }\n",
        "        var total = 0.0\n",
        "        for i in 0..<data.count {\n",
        "            total += pow(Double(data[i]) - m,2)\n",
        "        }\n",
        "        return total/Double(data.count)\n",
        "    }\n",
        "    \n",
        "    /**\n",
        "     Calculates the median of an array of values for types that\n",
        "     satisfy the BinaryFloatingPoint protocol (e.g Float, Double).\n",
        "     \n",
        "     - Parameters:\n",
        "        - data:\n",
        "        Values of population.  Note that this should contain at least one value.\n",
        "     \n",
        "     - Returns:\n",
        "     The population variance or `nil` if `data` contains fewer than one value.\n",
        "     */\n",
        "    public static func median<T: BinaryFloatingPoint>(_ data: [T]) -> Double? {\n",
        "        if data.isEmpty {\n",
        "            return nil\n",
        "        }\n",
        "        let sorted_data = data.sorted()\n",
        "        if data.count % 2 == 1 {\n",
        "            return Double(sorted_data[Int(floor(Double(data.count)/2))])\n",
        "        }\n",
        "        else {\n",
        "            return Double(sorted_data[data.count/2]+sorted_data[(data.count/2)-1])/2\n",
        "        }\n",
        "    }\n",
        "    \n",
        "    /**\n",
        "     Calculates the median of an array of values for types that\n",
        "     satisfy the BinaryInteger protocol (e.g Int, Int32).\n",
        "     \n",
        "     - Parameters:\n",
        "        - data:\n",
        "        Values of population.  Note that this should contain at least one value.\n",
        "     \n",
        "     - Returns:\n",
        "     The population variance or `nil` if `data` contains fewer than one value.\n",
        "     */\n",
        "    public static func median<T: BinaryInteger>(_ data: [T]) -> Double? {\n",
        "        if data.isEmpty {\n",
        "            return nil\n",
        "        }\n",
        "        let sorted_data = data.sorted()\n",
        "        if data.count % 2 == 1 {\n",
        "            return Double(sorted_data[Int(floor(Double(data.count)/2))])\n",
        "        }\n",
        "        else {\n",
        "            return Double(sorted_data[data.count/2]+sorted_data[(data.count/2)-1])/2\n",
        "        }\n",
        "    }\n",
        "\n",
        "   \n",
        "    public static func erfinv(_ y: Double) -> Double {\n",
        "        let center = 0.7\n",
        "        let a = [ 0.886226899, -1.645349621,  0.914624893, -0.140543331]\n",
        "        let b = [-2.118377725,  1.442710462, -0.329097515,  0.012229801]\n",
        "        let c = [-1.970840454, -1.624906493,  3.429567803,  1.641345311]\n",
        "        let d = [ 3.543889200,  1.637067800]\n",
        "        if abs(y) <= center {\n",
        "            let z = pow(y,2)\n",
        "            let num = (((a[3]*z + a[2])*z + a[1])*z) + a[0]\n",
        "            let den = ((((b[3]*z + b[2])*z + b[1])*z + b[0])*z + 1.0)\n",
        "            var x = y*num/den\n",
        "            x = x - (erf(x) - y)/(2.0/sqrt(pi)*exp(-x*x))\n",
        "            x = x - (erf(x) - y)/(2.0/sqrt(pi)*exp(-x*x))\n",
        "            return x\n",
        "        }\n",
        "\n",
        "        else if abs(y) > center && abs(y) < 1.0 {\n",
        "            let z = pow(-log((1.0-abs(y))/2),0.5)\n",
        "            let num = ((c[3]*z + c[2])*z + c[1])*z + c[0]\n",
        "            let den = (d[1]*z + d[0])*z + 1\n",
        "            // should use the sign public static function instead of pow(pow(y,2),0.5)\n",
        "            var x = y/pow(pow(y,2),0.5)*num/den\n",
        "            x = x - (erf(x) - y)/(2.0/sqrt(pi)*exp(-x*x))\n",
        "            x = x - (erf(x) - y)/(2.0/sqrt(pi)*exp(-x*x))\n",
        "            return x\n",
        "        }\n",
        "\n",
        "        else if abs(y) == 1 {\n",
        "            return y*Double(Int.max)\n",
        "        }\n",
        "\n",
        "        else {\n",
        "            // this should throw an error instead\n",
        "            return Double.nan\n",
        "        }\n",
        "    }\n",
        "\n",
        "    public static func lsr(_ points: [[Double]]) -> [Double] {\n",
        "        var total_x = 0.0\n",
        "        var total_xy = 0.0\n",
        "        var total_y = 0.0\n",
        "        var total_x2 = 0.0\n",
        "        for i in 0..<points.count {\n",
        "            total_x += points[i][0]\n",
        "            total_y += points[i][1]\n",
        "            total_xy += points[i][0]*points[i][1]\n",
        "            total_x2 += pow(points[i][0], 2)\n",
        "        }\n",
        "        let N = Double(points.count)\n",
        "        let b = (N*total_xy - total_x*total_y)/(N*total_x2 - pow(total_x, 2))\n",
        "        let a = (total_y - b*total_x)/N\n",
        "        return [a, b]\n",
        "    }\n",
        "\n",
        "}"
      ],
      "execution_count": null,
      "outputs": []
    },
    {
      "cell_type": "code",
      "metadata": {
        "id": "OAz4lZmbsCUc"
      },
      "source": [
        "public protocol ContinuousDistribution {\n",
        "    func quantile(_ p: Double) -> Double\n",
        "}\n",
        "\n",
        "extension ContinuousDistribution {\n",
        "    /**\n",
        "     Single discrete random value using a user-provided random number generator\n",
        "     \n",
        "     - Parameters:\n",
        "       - using: A random number generator\n",
        "     \n",
        "     - Returns:\n",
        "     A random number from the distribution represented by the instance\n",
        "     */\n",
        "    public func random<T: RandomNumberGenerator>(using generator: inout T) -> Double {\n",
        "        let x = Double.random(in: 0.0...1.0,\n",
        "                              using: &generator)\n",
        "        return quantile(x)\n",
        "    }\n",
        "\n",
        "    /**\n",
        "     Single discrete random value using the system random number generator\n",
        "     \n",
        "     - Returns:\n",
        "     A random number from the distribution represented by the instance\n",
        "     */\n",
        "    public func random() -> Double {\n",
        "        var rng = SystemRandomNumberGenerator()\n",
        "        return random(using: &rng)\n",
        "    }\n",
        "    \n",
        "    \n",
        "    /**\n",
        "     Array of discrete random values\n",
        "     - Parameter n: number of values to produce\n",
        "     - Complexity: O(n)\n",
        "     */\n",
        "    public func random(_ n: Int) -> [Double] {\n",
        "        var results: [Double] = []\n",
        "        for _ in 0..<n {\n",
        "            results.append(random())\n",
        "        }\n",
        "        return results\n",
        "    }\n",
        "\n",
        "}\n",
        "\n",
        "/**\n",
        " Protocol for discrete distributions.\n",
        " \n",
        " Defines the `quantile()` method that must be implemented.\n",
        " */\n",
        "public protocol DiscreteDistribution {\n",
        "    func quantile(_ p: Double) -> Int\n",
        "}\n",
        "\n",
        "extension DiscreteDistribution {\n",
        "    /**\n",
        "     Single discrete random value using a user-provided random number generator\n",
        "     \n",
        "     - Parameters:\n",
        "       - using: A random number generator\n",
        "     \n",
        "     - Returns:\n",
        "     A random number from the distribution represented by the instance\n",
        "     */\n",
        "    public func random<T: RandomNumberGenerator>(using generator: inout T) -> Int {\n",
        "        let x = Double.random(in: 0.0...1.0,\n",
        "                              using: &generator)\n",
        "        return quantile(x)\n",
        "    }\n",
        "    \n",
        "    /**\n",
        "     Single discrete random value using the system random number generator\n",
        "     \n",
        "     - Returns:\n",
        "     A random number from the distribution represented by the instance\n",
        "     */\n",
        "    public func random() -> Int {\n",
        "        var rng = SystemRandomNumberGenerator()\n",
        "        return random(using: &rng)\n",
        "    }\n",
        "    \n",
        "    /**\n",
        "     Array of discrete random values\n",
        "     - Parameter n: number of values to produce\n",
        "     - Complexity: O(n)\n",
        "     */\n",
        "    public func random(_ n: Int) -> [Int] {\n",
        "        var results: [Int] = []\n",
        "        for _ in 0..<n {\n",
        "            results.append(random())\n",
        "        }\n",
        "        return results\n",
        "    }\n",
        "\n",
        "}"
      ],
      "execution_count": null,
      "outputs": []
    },
    {
      "cell_type": "code",
      "metadata": {
        "id": "AnWrsrGF72WO"
      },
      "source": [
        "public class Bernoulli: DiscreteDistribution {\n",
        "    var p: Double\n",
        "    \n",
        "    public init(p: Double) {\n",
        "        self.p = p\n",
        "    }\n",
        "    \n",
        "    public convenience init?<T: BinaryInteger>(data: [T]) {\n",
        "        guard let m = Common.mean(data) else {\n",
        "            return nil\n",
        "        }\n",
        "        self.init(p: m)\n",
        "    }\n",
        "    \n",
        "    public func pmf(_ k: Int) -> Double {\n",
        "        if k == 1 {\n",
        "            return self.p\n",
        "        }\n",
        "        if k == 0 {\n",
        "            return 1 - self.p\n",
        "        }\n",
        "        return -1\n",
        "    }\n",
        "    \n",
        "    public func cdf(_ k: Int) -> Double {\n",
        "        if k < 0 {\n",
        "            return 0\n",
        "        }\n",
        "\n",
        "        if k < 1 {\n",
        "            return 1 - self.p\n",
        "        }\n",
        "        if k >= 1 {\n",
        "            return 1\n",
        "        }\n",
        "        return -1\n",
        "    }\n",
        "    \n",
        "    public func quantile(_ p: Double) -> Int {\n",
        "        if p < 0 {\n",
        "            return -1\n",
        "        }\n",
        "        else if p < 1 - self.p {\n",
        "            return 0\n",
        "        }\n",
        "        else if p <= 1 {\n",
        "            return 1\n",
        "        }\n",
        "        return -1\n",
        "    }\n",
        "}"
      ],
      "execution_count": null,
      "outputs": []
    },
    {
      "cell_type": "code",
      "metadata": {
        "id": "GEUUnfZur_te"
      },
      "source": [
        "public class Normal: ContinuousDistribution {\n",
        "    // mean and variance\n",
        "    var m: Double\n",
        "    var v: Double\n",
        "\n",
        "    public init(m: Double, v: Double) {\n",
        "        self.m = m\n",
        "        self.v = v\n",
        "    }\n",
        "    \n",
        "    public convenience init(mean: Double, sd: Double) {\n",
        "        // This contructor takes the mean and standard deviation, which is the more\n",
        "        // common parameterisation of a normal distribution.\n",
        "        let variance = pow(sd, 2)\n",
        "        self.init(m: mean, v: variance)\n",
        "    }\n",
        "\n",
        "    public convenience init?(data: [Double]) {\n",
        "        // this calculates the mean twice, since variance()\n",
        "        // uses the mean and calls mean()\n",
        "        guard let v = Common.variance(data) else {\n",
        "            return nil\n",
        "        }\n",
        "        guard let m = Common.mean(data) else {\n",
        "            return nil // This shouldn't ever occur\n",
        "        }\n",
        "        self.init(m: m, v: v)\n",
        "    }\n",
        "\n",
        "    public func pdf(_ x: Double) -> Double {\n",
        "        let pi = Common.pi\n",
        "        return (1/pow(self.v * 2 * pi,0.5))*exp(-pow(x-self.m,2)/(2*self.v))\n",
        "    }\n",
        "\n",
        "    public func cdf(_ x: Double) -> Double {\n",
        "        return (1 + erf((x-self.m)/pow(2*self.v,0.5)))/2\n",
        "    }\n",
        "\n",
        "    public func quantile(_ p: Double) -> Double {\n",
        "        return self.m + pow(self.v*2,0.5)*Common.erfinv(2*p - 1)\n",
        "    }\n",
        "}\n",
        "\n",
        "public class Uniform: ContinuousDistribution {\n",
        "    // a and b are endpoints, that is\n",
        "    // values will be distributed uniformly between points a and b\n",
        "    var a: Double\n",
        "    var b: Double\n",
        "\n",
        "    public init(a: Double, b: Double) {\n",
        "        self.a = a\n",
        "        self.b = b\n",
        "    }\n",
        "\n",
        "    public func pdf(_ x: Double) -> Double {\n",
        "        if x>a && x<b {\n",
        "            return 1/(b-a)\n",
        "        }\n",
        "        return 0\n",
        "    }\n",
        "\n",
        "    public func cdf(_ x: Double) -> Double {\n",
        "        if x<a {\n",
        "            return 0\n",
        "        }\n",
        "        else if x<b {\n",
        "            return (x-a)/(b-a)\n",
        "        }\n",
        "        else if x>=b {\n",
        "            return 1\n",
        "        }\n",
        "        return 0\n",
        "    }\n",
        "\n",
        "    public func quantile(_ p: Double) -> Double {\n",
        "        if p>=0 && p<=1{\n",
        "            return p*(b-a)+a\n",
        "        }\n",
        "        return Double.nan\n",
        "    }\n",
        "}"
      ],
      "execution_count": null,
      "outputs": []
    },
    {
      "cell_type": "code",
      "metadata": {
        "id": "ts8BRl6RuUyG",
        "colab": {
          "base_uri": "https://localhost:8080/"
        },
        "outputId": "87160e3e-ff25-43f6-9caa-b1c9f867814c"
      },
      "source": [
        "let normal_var = Normal(m: 1, v: 2).pdf(1.5)\n",
        "normal_var"
      ],
      "execution_count": null,
      "outputs": [
        {
          "output_type": "execute_result",
          "data": {
            "text/plain": [
              "0.26500353234402857\n"
            ]
          },
          "metadata": {
            "tags": []
          },
          "execution_count": 7
        }
      ]
    },
    {
      "cell_type": "code",
      "metadata": {
        "id": "Sm9Fxsoj37Fa"
      },
      "source": [
        "//The data we'll use for the algorithm\n",
        "let array_range:Array = Array(stride(from: -10.0, to: 20.0 , by: 0.1))\n",
        "let generative_m_ = [Normal(mean:1 , sd: 5.0), \n",
        "                     Normal(mean:10.5 , sd: 2.8)]"
      ],
      "execution_count": null,
      "outputs": []
    },
    {
      "cell_type": "code",
      "metadata": {
        "id": "3Bh5rQqxeRgY",
        "colab": {
          "base_uri": "https://localhost:8080/",
          "height": 461
        },
        "outputId": "7a8c9171-54c5-4314-d7e4-509854399273"
      },
      "source": [
        "plt.figure(figsize:[10,7])\n",
        "plt.plot(array_range, zip(array_range.map{generative_m_[0].pdf($0)},array_range.map{generative_m_[1].pdf($0)}).map(+), label:\"Mixture\")\n",
        "plt.title(\"Gaussian mixture model\")\n",
        "plt.legend()\n",
        "plt.show()"
      ],
      "execution_count": null,
      "outputs": [
        {
          "output_type": "display_data",
          "data": {
            "image/png": "[encoded data removed]",
            "text/plain": [
              "<Figure size 720x504 with 1 Axes>"
            ]
          },
          "metadata": {
            "tags": [],
            "needs_background": "light"
          }
        },
        {
          "output_type": "execute_result",
          "data": {
            "text/plain": [
              "None\n"
            ]
          },
          "metadata": {
            "tags": []
          },
          "execution_count": 11
        }
      ]
    },
    {
      "cell_type": "code",
      "metadata": {
        "id": "oRgOI2LBCOE1",
        "colab": {
          "base_uri": "https://localhost:8080/",
          "height": 461
        },
        "outputId": "bc93cff1-0464-43a9-c3a1-aa412f9d6396"
      },
      "source": [
        "plt.figure(figsize:[10,7])\n",
        "plt.plot(array_range,array_range.map{generative_m_[0].pdf($0)},label:\"Gaussian distribution 1\")\n",
        "plt.plot(array_range,array_range.map{generative_m_[1].pdf($0)},label:\"Gaussian distribution 2\")\n",
        "plt.plot(array_range, zip(array_range.map{generative_m_[0].pdf($0)},array_range.map{generative_m_[1].pdf($0)}).map(+), ls:\"--\",lw:\"1\",color:\"grey\", label:\"Mixture\")\n",
        "plt.fill_betweenx(array_range.map{generative_m_[0].pdf($0)},array_range,alpha:0.1)\n",
        "plt.fill_betweenx(array_range.map{generative_m_[1].pdf($0)},array_range,alpha:0.1)\n",
        "plt.title(\"Gaussian mixture model and its gaussians\")\n",
        "plt.legend()\n",
        "plt.show()"
      ],
      "execution_count": null,
      "outputs": [
        {
          "output_type": "display_data",
          "data": {
            "image/png": "[encoded data removed]",
            "text/plain": [
              "<Figure size 720x504 with 1 Axes>"
            ]
          },
          "metadata": {
            "tags": [],
            "needs_background": "light"
          }
        },
        {
          "output_type": "execute_result",
          "data": {
            "text/plain": [
              "None\n"
            ]
          },
          "metadata": {
            "tags": []
          },
          "execution_count": 12
        }
      ]
    },
    {
      "cell_type": "code",
      "metadata": {
        "id": "XGDelEgov-Iu"
      },
      "source": [
        "// Draw samples from k Gaussians with z_i ~ Bernouilli(0.75)\n",
        "var z_i = Bernoulli(p: 0.75).random(100)\n",
        "var x_i = (z_i.map {generative_m_[$0].random()})"
      ],
      "execution_count": null,
      "outputs": []
    },
    {
      "cell_type": "code",
      "metadata": {
        "id": "91iGjLYVJaen"
      },
      "source": [
        "extension Sequence where Element: AdditiveArithmetic {\n",
        "    /// Returns the total sum of all elements in the sequence\n",
        "    func sum() -> Element { reduce(.zero, +) }\n",
        "}\n",
        "extension Collection where Element: BinaryInteger {\n",
        "    /// Returns the average of all elements in the array\n",
        "    func average() -> Element { isEmpty ? .zero : sum() / Element(count) }\n",
        "    /// Returns the average of all elements in the array as Floating Point type\n",
        "    func average<T: FloatingPoint>() -> T { isEmpty ? .zero : T(sum()) / T(count) }\n",
        "}\n",
        "extension Collection where Element: BinaryFloatingPoint {\n",
        "    /// Returns the average of all elements in the array\n",
        "    func average() -> Element { isEmpty ? .zero : Element(sum()) / Element(count) }\n",
        "}\n",
        "\n",
        "public func testNearZero(_ a: Double, tolerance: Double = 1e-3) -> Bool {\n",
        "    assert(abs(a) < tolerance, \"Near zero: \\(a)\")\n",
        "    return true\n",
        "}\n",
        "\n",
        "public func testNearZero_(_ a: Double, tolerance: Double = 1e-3) -> Bool {\n",
        "    if abs(a) < tolerance {return true}\n",
        "    else {return false}\n",
        "}"
      ],
      "execution_count": null,
      "outputs": []
    },
    {
      "cell_type": "code",
      "metadata": {
        "id": "X2fODJypC1gO"
      },
      "source": [
        "public struct EM {\n",
        "    var k: Int\n",
        "    var mu: [Double] = []\n",
        "    var std: [Double]\n",
        "    var w_ij = [[Double]]()\n",
        "    var elements: [Double] = []\n",
        "    var phi: [Double] = []\n",
        "    var tot_dims: [Double] = []\n",
        "    var sum_ax1: [Double] = []\n",
        "\n",
        "    init(_ k: Int){\n",
        "        self.k = k\n",
        "        self.std = [Double](repeating:1, count: self.k)\n",
        "        self.phi = [Double](repeating:1, count: self.k).map{$0 / Double(self.k)}\n",
        "        self.mu = [Double](repeating:0, count: self.k).map{$0 / Double(self.k)}\n",
        "    }\n",
        "    public mutating func expectation_step(_ x:[Double]) {\n",
        "        self.elements = [Double](repeating:0, count: x.count)\n",
        "        self.tot_dims = self.elements\n",
        "        for z_i in 0..<self.k {\n",
        "            self.w_ij.append(self.elements)\n",
        "            self.w_ij[z_i] = x.map{Normal(mean: self.mu[z_i], sd:self.std[z_i]).pdf($0)}\n",
        "            self.w_ij[z_i] = self.w_ij[z_i].map{ $0 * self.phi[z_i]}\n",
        "        }\n",
        "        //Calcul de somme sur l'axe 0\n",
        "        for row in 0..<self.elements.count {\n",
        "            for column in 0..<self.w_ij.count {\n",
        "                self.tot_dims[row] = self.w_ij[column][row] + self.tot_dims[row]\n",
        "            }\n",
        "        }\n",
        "        // w_ij /= w_ij.sum(0)\n",
        "        for column in 0..<self.w_ij.count {\n",
        "            for row in 0..<self.elements.count {\n",
        "                self.w_ij[column][row] = self.w_ij[column][row] / self.tot_dims[row]\n",
        "            }\n",
        "        }\n",
        "    }\n",
        "    public mutating func maximization_step(_ x:[Double]) {\n",
        "        self.sum_ax1 = self.elements\n",
        "        //Calcul de la moyenne des w_ij sur l'axe 1\n",
        "        for i in 0..<self.k {\n",
        "            self.phi[i] = self.w_ij[i].average()\n",
        "            //Maximization of mu : (self.w_ij * x).sum(1) / self.w_ij.sum(1)\n",
        "            self.mu[i] = ((0..<x.count).map{self.w_ij[i][$0] * x[$0]}).reduce(0,+)\n",
        "            self.mu[i] = self.mu[i] / self.w_ij[i].sum()\n",
        "            //Maximization of std : self.std = ((self.w_ij * (x - self.mu[:, None])**2).sum(1) / self.w_ij.sum(1))**0.5\n",
        "            self.sum_ax1 = (0..<x.count).map{self.w_ij[i][$0] * pow((x[$0] - self.mu[i]),2)}\n",
        "            self.std[i] = self.sum_ax1.reduce(0,+) / self.w_ij[i].sum()\n",
        "            self.std[i] = pow(self.std[i], 0.5)\n",
        "        }\n",
        "    }\n",
        "    public mutating func fit(_ x:[Double]) {\n",
        "        self.mu = Uniform(a: x.min()!, b:x.max()!).random(self.k)\n",
        "        //self.w_ij = np.zeros((self.k,x.shape[0]))\n",
        "        self.elements = [Double](repeating:0, count: x.count)\n",
        "        for i in 0..<self.k {\n",
        "            self.w_ij.append(self.elements)\n",
        "        }\n",
        "        //last_mu = np.ones(self.k) * np.inf\n",
        "        var last_mu:[Double] =  [Double](repeating:Double.infinity, count: self.k)\n",
        "        //Difference calculation : self.mu - last_mu\n",
        "        var diff: [Double] = [Double](repeating:0, count: self.k)\n",
        "        var diff_bools: [Bool] = [Bool](repeating: false, count:self.k)\n",
        "        for i in 0..<self.k {\n",
        "            diff[i] = last_mu[i] - self.mu[i]\n",
        "            if testNearZero_(diff[i]) { diff_bools[i] = true }\n",
        "            else { diff_bools[i] = false }\n",
        "        }\n",
        "\n",
        "        while !diff_bools.allSatisfy({$0 == true}) {\n",
        "            last_mu = self.mu\n",
        "            self.expectation_step(x)\n",
        "            self.maximization_step(x)\n",
        "            for i in 0..<self.k {\n",
        "                diff[i] = last_mu[i] - self.mu[i]\n",
        "                if testNearZero_(diff[i]) { diff_bools[i] = true }\n",
        "                else { diff_bools[i] = false }\n",
        "            }\n",
        "        }\n",
        "\n",
        "    }\n",
        "\n",
        "\n",
        "}"
      ],
      "execution_count": null,
      "outputs": []
    },
    {
      "cell_type": "code",
      "metadata": {
        "id": "5nM6jT9rIe9Y"
      },
      "source": [
        "var obj = EM(2)"
      ],
      "execution_count": null,
      "outputs": []
    },
    {
      "cell_type": "code",
      "metadata": {
        "id": "1ogOmGy68J7x"
      },
      "source": [
        "obj.fit(x_i)"
      ],
      "execution_count": null,
      "outputs": []
    },
    {
      "cell_type": "code",
      "metadata": {
        "id": "jjWPCl4Kg9qz",
        "colab": {
          "base_uri": "https://localhost:8080/"
        },
        "outputId": "208f50af-f31b-4143-d200-56d20d62caee"
      },
      "source": [
        "print(obj.mu, obj.std)"
      ],
      "execution_count": null,
      "outputs": [
        {
          "output_type": "stream",
          "text": [
            "[10.83726626642127, 3.1095078873447766] [2.526791771707389, 5.50277807483373]\r\n"
          ],
          "name": "stdout"
        }
      ]
    },
    {
      "cell_type": "code",
      "metadata": {
        "id": "2XE2MHghyrV1"
      },
      "source": [
        "let fitted_m = [Normal(mean:obj.mu[0] , sd: obj.std[0]), \n",
        "                Normal(mean:obj.mu[1] , sd: obj.std[1])]"
      ],
      "execution_count": null,
      "outputs": []
    },
    {
      "cell_type": "code",
      "metadata": {
        "id": "u3S5ZBcFy4SU",
        "colab": {
          "base_uri": "https://localhost:8080/",
          "height": 461
        },
        "outputId": "8e895910-6f77-412f-d386-4744712b265e"
      },
      "source": [
        "plt.figure(figsize:[10,7])\n",
        "plt.plot(array_range,array_range.map{generative_m_[0].pdf($0)})\n",
        "plt.plot(array_range,array_range.map{generative_m_[1].pdf($0)})\n",
        "plt.plot(array_range,array_range.map{fitted_m[0].pdf($0)}, lw:1,ls:\"--\", c:\"grey\")\n",
        "plt.plot(array_range,array_range.map{fitted_m[1].pdf($0)}, lw:1,ls:\"--\", c:\"grey\")\n",
        "plt.fill_betweenx(array_range.map{generative_m_[0].pdf($0)},array_range,alpha:0.1)\n",
        "plt.fill_betweenx(array_range.map{generative_m_[1].pdf($0)},array_range,alpha:0.1)\n",
        "plt.title(\"Fitting of the gaussians\")\n",
        "plt.show()"
      ],
      "execution_count": null,
      "outputs": [
        {
          "output_type": "display_data",
          "data": {
            "image/png": "[encoded data removed]",
            "text/plain": [
              "<Figure size 720x504 with 1 Axes>"
            ]
          },
          "metadata": {
            "tags": [],
            "needs_background": "light"
          }
        },
        {
          "output_type": "execute_result",
          "data": {
            "text/plain": [
              "None\n"
            ]
          },
          "metadata": {
            "tags": []
          },
          "execution_count": 18
        }
      ]
    },
    {
      "cell_type": "code",
      "metadata": {
        "id": "t1lBPfSKaONi"
      },
      "source": [
        ""
      ],
      "execution_count": null,
      "outputs": []
    }
  ]
}